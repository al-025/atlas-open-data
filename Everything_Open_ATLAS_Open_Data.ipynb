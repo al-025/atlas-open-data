{
  "nbformat": 4,
  "nbformat_minor": 0,
  "metadata": {
    "colab": {
      "provenance": []
    },
    "kernelspec": {
      "name": "python3",
      "display_name": "Python 3"
    },
    "language_info": {
      "name": "python"
    }
  },
  "cells": [
    {
      "cell_type": "code",
      "execution_count": null,
      "metadata": {
        "id": "8zIs9Dn-lLuv"
      },
      "outputs": [],
      "source": [
        "#install required packages\n",
        "import sys\n",
        "!{sys.executable} -m pip install --upgrade --user pip\n",
        "!{sys.executable} -m pip install -U numpy==2.0.0 pandas==2.2.2 uproot==5.3.9 matplotlib==3.9.0 lmfit==1.3.1 awkward-pandas==2023.8.0 aiohttp==3.9.5 requests==2.32.3 --user\n"
      ]
    },
    {
      "cell_type": "code",
      "source": [
        "import uproot # for reading .root files\n",
        "import time # to measure time to analyse\n",
        "import math # for mathematical functions such as square root\n",
        "import awkward as ak # for handling complex and nested data structures efficiently\n",
        "import numpy as np # # for numerical calculations such as histogramming\n",
        "import matplotlib.pyplot as plt # for plotting\n",
        "from matplotlib.ticker import MaxNLocator,AutoMinorLocator # for minor ticks\n",
        "from lmfit.models import PolynomialModel, GaussianModel # for the signal and background fits\n",
        "import vector #to use vectors\n",
        "import requests # for HTTP access\n",
        "import aiohttp # HTTP client support\n"
      ],
      "metadata": {
        "id": "y1JEEGCdlWYJ"
      },
      "execution_count": null,
      "outputs": []
    },
    {
      "cell_type": "code",
      "source": [
        "# ATLAS Open Data directory\n",
        "path = \"https://atlas-opendata.web.cern.ch/atlas-opendata/13TeV/GamGam/Data/\" # web address\n",
        "\n",
        "samples_list = [\n",
        "    'data15_periodD','data15_periodE','data15_periodF','data15_periodG','data15_periodH','data15_periodJ',\n",
        "    'data16_periodA','data16_periodB','data16_periodC','data16_periodD','data16_periodE','data16_periodF','data16_periodG','data16_periodK','data16_periodL'\n",
        "]"
      ],
      "metadata": {
        "id": "EEh8L4BPlWsJ"
      },
      "execution_count": null,
      "outputs": []
    },
    {
      "cell_type": "code",
      "source": [
        "data_15G_path = path + samples_list[3] + \".root\"\n",
        "\n",
        "# Accessing the file from the online database (\":analysis\" opens the tree in a desired manner)\n",
        "with uproot.open(data_15G_path + \":analysis\") as t:\n",
        "\ttree = t\n",
        "\n",
        "# The number of entries in the tree can be viewed\n",
        "print(\"The number of entries in the tree are:\", tree.num_entries)\n",
        "\n",
        "# All the information stored in the tree can be viewed using the .keys() method.\n",
        "print(\"The information stored in the tree is:\", tree.keys())\n"
      ],
      "metadata": {
        "id": "bCDnXbColiMp"
      },
      "execution_count": null,
      "outputs": []
    },
    {
      "cell_type": "code",
      "source": [
        "def make_hist(x,xerr,xmin,xmax,bin_size,xlabel,ylabel):\n",
        "  bin_edges = np.arange(start=xmin, # The interval includes this value\n",
        "                    \tstop=xmax+bin_size, # The interval doesn't include this value\n",
        "                    \tstep=bin_size ) # Spacing between values\n",
        "  bin_centres = np.arange(start=xmin+bin_size/2, # The interval includes this value\n",
        "                      \tstop=xmax+bin_size/2, # The interval doesn't include this value\n",
        "                      \tstep=bin_size ) # Spacing between values\n",
        "\n",
        "  data_x,_ = np.histogram(ak.to_numpy(x),\n",
        "                      \tbins=bin_edges ) # histogram the data\n",
        "  data_x_errors = np.sqrt(data_x)\n",
        "\n",
        "  # *************\n",
        "  # Main plot\n",
        "  # *************\n",
        "  main_axes = plt.gca() # get current axes\n",
        "\n",
        "  # plot the data points\n",
        "  main_axes.errorbar(x=bin_centres, y=data_x, yerr=data_x_errors,\n",
        "                  \tfmt='ko', # 'k' means black and 'o' is for circles\n",
        "                  \tlabel='Data')\n",
        "\n",
        "  # set the x-limit of the main axes\n",
        "  main_axes.set_xlim( left=xmin, right=xmax )\n",
        "\n",
        "  # separation of x axis minor ticks\n",
        "  main_axes.xaxis.set_minor_locator( AutoMinorLocator() )\n",
        "\n",
        "  # set the axis tick parameters for the main axes\n",
        "  main_axes.tick_params(which='both', # ticks on both x and y axes\n",
        "                      \tdirection='in', # Put ticks inside and outside the axes\n",
        "                      \ttop=True, # draw ticks on the top axis\n",
        "                      \tright=True ) # draw ticks on right axis\n",
        "\n",
        "  # x-axis label\n",
        "  main_axes.set_xlabel(xlabel,\n",
        "                  \tfontsize=13, x=1, horizontalalignment='right' )\n",
        "\n",
        "  # write y-axis label for main axes\n",
        "  main_axes.set_ylabel(ylabel,\n",
        "                      \ty=1, horizontalalignment='right')\n",
        "\n",
        "  # set y-axis limits for main axes\n",
        "  main_axes.set_ylim( bottom=0, top=np.amax(data_x)*1.6 )\n",
        "\n",
        "  # add minor ticks on y-axis for main axes\n",
        "  main_axes.yaxis.set_minor_locator( AutoMinorLocator() )\n",
        "\n",
        "  # draw the legend\n",
        "  main_axes.legend( frameon=False ); # no box around the legend\n"
      ],
      "metadata": {
        "id": "UiiqAyAwlmkA"
      },
      "execution_count": null,
      "outputs": []
    }
  ]
}