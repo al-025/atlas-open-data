{
  "nbformat": 4,
  "nbformat_minor": 0,
  "metadata": {
    "colab": {
      "provenance": [],
      "authorship_tag": "ABX9TyMDCDN9OwFjJY/eheUUCnM4",
      "include_colab_link": true
    },
    "kernelspec": {
      "name": "python3",
      "display_name": "Python 3"
    },
    "language_info": {
      "name": "python"
    }
  },
  "cells": [
    {
      "cell_type": "markdown",
      "metadata": {
        "id": "view-in-github",
        "colab_type": "text"
      },
      "source": [
        "<a href=\"https://colab.research.google.com/github/al-025/atlas-open-data/blob/main/Everything_Open_ATLAS_Open_Data.ipynb\" target=\"_parent\"><img src=\"https://colab.research.google.com/assets/colab-badge.svg\" alt=\"Open In Colab\"/></a>"
      ]
    },
    {
      "cell_type": "code",
      "execution_count": null,
      "metadata": {
        "id": "8zIs9Dn-lLuv"
      },
      "outputs": [],
      "source": [
        "#install required packages - if you see any warnings/errors try restarting the session and running this cell again\n",
        "import sys\n",
        "!pip install --upgrade --user pip\n",
        "!pip install -U numpy==2.0.0 pandas==2.2.2 uproot==5.3.9 matplotlib==3.9.0 lmfit==1.3.1 awkward-pandas==2023.8.0 aiohttp==3.9.5 requests==2.32.3 vector --user"
      ]
    },
    {
      "cell_type": "code",
      "source": [
        "import uproot # for reading .root files\n",
        "import math # for mathematical functions such as square root\n",
        "import awkward as ak # for handling complex and nested data structures efficiently\n",
        "import numpy as np # # for numerical calculations such as histogramming\n",
        "import matplotlib.pyplot as plt # for plotting\n",
        "from matplotlib.ticker import MaxNLocator,AutoMinorLocator # for minor ticks\n",
        "from lmfit.models import PolynomialModel, GaussianModel # for the signal and background fits\n",
        "import vector #to use vectors\n",
        "import requests # for HTTP access\n",
        "import aiohttp # HTTP client support\n",
        "import pandas as pd # convenient data structure\n",
        "from itertools import chain # for quickly flattening pandas dataframe columns"
      ],
      "metadata": {
        "id": "y1JEEGCdlWYJ"
      },
      "execution_count": null,
      "outputs": []
    },
    {
      "cell_type": "code",
      "source": [
        "# ATLAS Open Data directory\n",
        "path = \"https://atlas-opendata.web.cern.ch/atlas-opendata/samples/2020/GamGam/Data/\" # web address\n",
        "samples_list = ['data_A','data_B','data_C','data_D'] # add if you want more data\n",
        "file_suffix = \".GamGam.root\"\n",
        "tree_type = \":mini\"\n",
        "GeV = 1000 # scaling factor to account for units used in data files"
      ],
      "metadata": {
        "id": "EEh8L4BPlWsJ"
      },
      "execution_count": null,
      "outputs": []
    },
    {
      "cell_type": "code",
      "source": [
        "data_15G_path = path + samples_list[3] + file_suffix\n",
        "\n",
        "# Accessing the file from the online database\n",
        "with uproot.open(data_15G_path + tree_type) as t:\n",
        "\ttree = t\n",
        "\n",
        "# The number of entries in the tree can be viewed\n",
        "print(\"The number of entries in the tree are:\", tree.num_entries)\n",
        "\n",
        "# All the information stored in the tree can be viewed using the .keys() method.\n",
        "print(\"The information stored in the tree is:\", tree.keys())\n",
        "\n",
        "# For ease of access, we can import the data into a Pandas DataFrame\n",
        "df = tree.arrays(library='pd')"
      ],
      "metadata": {
        "id": "bCDnXbColiMp"
      },
      "execution_count": null,
      "outputs": []
    },
    {
      "cell_type": "code",
      "source": [
        "# Grab a variable from the dataframe by indexing into df with that variable name:\n",
        "df['jet_n']"
      ],
      "metadata": {
        "id": "fzzEpFMJVMs6"
      },
      "execution_count": null,
      "outputs": []
    },
    {
      "cell_type": "code",
      "source": [
        "def make_hist(x,bin_size,xmin=None,xmax=None,xlabel='',ylabel='Events'):\n",
        "  xmin = xmin or np.min(x)\n",
        "  xmax = xmax or np.max(x)\n",
        "  bin_edges = np.arange(start=xmin, # The interval includes this value\n",
        "                    \tstop=xmax+bin_size, # The interval doesn't include this value\n",
        "                    \tstep=bin_size ) # Spacing between values\n",
        "  bin_centres = np.arange(start=xmin+bin_size/2, # The interval includes this value\n",
        "                      \tstop=xmax+bin_size/2, # The interval doesn't include this value\n",
        "                      \tstep=bin_size ) # Spacing between values\n",
        "\n",
        "  data_x,_ = np.histogram(x,\n",
        "                      \tbins=bin_edges ) # histogram the data\n",
        "  data_x_errors = np.sqrt(data_x)\n",
        "\n",
        "  # *************\n",
        "  # Main plot\n",
        "  # *************\n",
        "  main_axes = plt.gca() # get current axes\n",
        "\n",
        "  # plot the data points\n",
        "  main_axes.errorbar(x=bin_centres, y=data_x, yerr=data_x_errors,\n",
        "                  \tfmt='ko', # 'k' means black and 'o' is for circles\n",
        "                  \tlabel='Data')\n",
        "\n",
        "  # set the x-limit of the main axes\n",
        "  main_axes.set_xlim( left=xmin, right=xmax )\n",
        "\n",
        "  # separation of x axis minor ticks\n",
        "  main_axes.xaxis.set_minor_locator( AutoMinorLocator() )\n",
        "\n",
        "  # set the axis tick parameters for the main axes\n",
        "  main_axes.tick_params(which='both', # ticks on both x and y axes\n",
        "                      \tdirection='in', # Put ticks inside and outside the axes\n",
        "                      \ttop=True, # draw ticks on the top axis\n",
        "                      \tright=True ) # draw ticks on right axis\n",
        "\n",
        "  # x-axis label\n",
        "  main_axes.set_xlabel(xlabel,\n",
        "                  \tfontsize=13, x=1, horizontalalignment='right' )\n",
        "\n",
        "  # write y-axis label for main axes\n",
        "  main_axes.set_ylabel(ylabel,\n",
        "                      \ty=1, horizontalalignment='right')\n",
        "\n",
        "  # set y-axis limits for main axes\n",
        "  main_axes.set_ylim( bottom=0, top=np.amax(data_x)*1.6 )\n",
        "\n",
        "  # add minor ticks on y-axis for main axes\n",
        "  main_axes.yaxis.set_minor_locator( AutoMinorLocator() )\n",
        "\n",
        "  # draw the legend\n",
        "  main_axes.legend( frameon=False ); # no box around the legend\n",
        "\n",
        "# convenient function for quickly flattening a column from a dataframe\n",
        "def flatten_col(col):\n",
        "  return pd.Series(list(chain.from_iterable(col)))"
      ],
      "metadata": {
        "id": "UiiqAyAwlmkA"
      },
      "execution_count": null,
      "outputs": []
    },
    {
      "cell_type": "code",
      "source": [
        "# To make a histogram of a variable, simply pass it into the make_hist function together with the desired binnings and axis labels, eg:\n",
        "# make_hist(df['met'], bin_size=10, xmin=0, xmax=200,\n",
        "#           xlabel='MET [GeV]', ylabel='Events / 10 GeV')\n",
        "\n",
        "make_hist(df['jet_n'], bin_size=1, xmin=0, xmax=10,\n",
        "          xlabel='Number of jets', ylabel='Events')"
      ],
      "metadata": {
        "id": "KfNWqW2-QKez"
      },
      "execution_count": null,
      "outputs": []
    },
    {
      "cell_type": "code",
      "source": [
        "# Note that some variables have multiple values per event (one for each corresponding object present) - these need to be flattened prior to histogramming, eg:\n",
        "make_hist(flatten_col(df['jet_phi']), bin_size=0.1, xlabel='jet $\\phi$')"
      ],
      "metadata": {
        "id": "zNJwcIoAQweD"
      },
      "execution_count": null,
      "outputs": []
    },
    {
      "cell_type": "code",
      "source": [
        "# Try making histograms for some other variables here, eg lep_pt or photon_E\n"
      ],
      "metadata": {
        "id": "pQWiAo-HekOL"
      },
      "execution_count": null,
      "outputs": []
    },
    {
      "cell_type": "markdown",
      "source": [
        "\n",
        "\n",
        "---\n",
        "\n",
        "# Recreating the Higgs Boson discovery plot"
      ],
      "metadata": {
        "id": "VyOaTyCIp0kn"
      }
    },
    {
      "cell_type": "code",
      "source": [
        "def result_plot(df, bin_size=3, xmin=100, xmax=160, fraction=1):\n",
        "  bin_edges = np.arange(start=xmin, # The interval includes this value\n",
        "                      stop=xmax+bin_size, # The interval doesn't include this value\n",
        "                      step=bin_size ) # Spacing between values\n",
        "  bin_centres = np.arange(start=xmin+bin_size/2, # The interval includes this value\n",
        "                        stop=xmax+bin_size/2, # The interval doesn't include this value\n",
        "                        step=bin_size ) # Spacing between values\n",
        "\n",
        "  data_x,_ = np.histogram(ak.to_numpy(df['mass']),\n",
        "                              bins=bin_edges ) # histogram the data\n",
        "  data_x_errors = np.sqrt( data_x ) # statistical error on the data\n",
        "\n",
        "  # data fit\n",
        "  polynomial_mod = PolynomialModel( 4 ) # 4th order polynomial\n",
        "  gaussian_mod = GaussianModel() # Gaussian\n",
        "\n",
        "  # set initial guesses for the parameters of the polynomial model\n",
        "  # c0 + c1*x + c2*x^2 + c3*x^3 + c4*x^4\n",
        "  pars = polynomial_mod.guess(data_x, # data to use to guess parameter values\n",
        "                              x=bin_centres, c0=data_x.max(), c1=0,\n",
        "                              c2=0, c3=0, c4=0 )\n",
        "\n",
        "  # set initial guesses for the parameters of the Gaussian model\n",
        "  pars += gaussian_mod.guess(data_x, # data to use to guess parameter values\n",
        "                          x=bin_centres, amplitude=100,\n",
        "                          center=125, sigma=2 )\n",
        "\n",
        "  model = polynomial_mod + gaussian_mod # combined model\n",
        "\n",
        "  # fit the model to the data\n",
        "  out = model.fit(data_x, # data to be fit\n",
        "                  pars, # guesses for the parameters\n",
        "                  x=bin_centres, weights=1/data_x_errors ) #ASK\n",
        "\n",
        "  # background part of fit\n",
        "  params_dict = out.params.valuesdict() # get the parameters from the fit to data\n",
        "  c0 = params_dict['c0'] # c0 of c0 + c1*x + c2*x^2 + c3*x^3 + c4*x^4\n",
        "  c1 = params_dict['c1'] # c1 of c0 + c1*x + c2*x^2 + c3*x^3 + c4*x^4\n",
        "  c2 = params_dict['c2'] # c2 of c0 + c1*x + c2*x^2 + c3*x^3 + c4*x^4\n",
        "  c3 = params_dict['c3'] # c3 of c0 + c1*x + c2*x^2 + c3*x^3 + c4*x^4\n",
        "  c4 = params_dict['c4'] # c4 of c0 + c1*x + c2*x^2 + c3*x^3 + c4*x^4\n",
        "\n",
        "  # get the background only part of the fit to data\n",
        "  background = c0 + c1*bin_centres + c2*bin_centres**2 + c3*bin_centres**3 + c4*bin_centres**4\n",
        "\n",
        "  # data fit - background fit = signal fit\n",
        "  signal_x = data_x - background\n",
        "\n",
        "  # *************\n",
        "  # Main plot\n",
        "  # *************\n",
        "  plt.axes([0.1,0.3,0.85,0.65]) # left, bottom, width, height\n",
        "  main_axes = plt.gca() # get current axes\n",
        "\n",
        "  # plot the data points\n",
        "  main_axes.errorbar(x=bin_centres, y=data_x, yerr=data_x_errors,\n",
        "                  fmt='ko', # 'k' means black and 'o' means circles\n",
        "                  label='Data' )\n",
        "\n",
        "  # plot the signal + background fit\n",
        "  main_axes.plot(bin_centres, # x\n",
        "              out.best_fit, # y\n",
        "              '-r', # single red line\n",
        "              label='Sig+Bkg Fit ($m_H=125$ GeV)' )\n",
        "\n",
        "  # plot the background only fit\n",
        "  main_axes.plot(bin_centres, # x\n",
        "              background, # y\n",
        "              '--r', # dashed red line\n",
        "              label='Bkg (4th order polynomial)' )\n",
        "\n",
        "  # set the x-limit of the main axes\n",
        "  main_axes.set_xlim( left=xmin, right=xmax )\n",
        "\n",
        "  # separation of x-axis minor ticks\n",
        "  main_axes.xaxis.set_minor_locator( AutoMinorLocator() )\n",
        "\n",
        "  # set the axis tick parameters for the main axes\n",
        "  main_axes.tick_params(which='both', # ticks on both x and y axes\n",
        "                      direction='in', # Put ticks inside and outside the axes\n",
        "                      top=True, # draw ticks on the top axis\n",
        "                      labelbottom=False, # don't draw tick labels on bottom axis\n",
        "                      right=True ) # draw ticks on right axis\n",
        "\n",
        "  # write y-axis label for main\n",
        "  main_axes.set_ylabel('Events / '+str(bin_size)+' GeV',\n",
        "                      horizontalalignment='right')\n",
        "\n",
        "  # set the y-axis limit for the main axes\n",
        "  main_axes.set_ylim( bottom=0, top=np.amax(data_x)*1.1 )\n",
        "\n",
        "  # set minor ticks on the y-axis of the main axes\n",
        "  main_axes.yaxis.set_minor_locator( AutoMinorLocator() )\n",
        "\n",
        "  # avoid displaying y=0 on the main axes\n",
        "  main_axes.yaxis.get_major_ticks()[0].set_visible(False)\n",
        "\n",
        "  # Add text 'ATLAS Open Data' on plot\n",
        "  plt.text(0.2, # x\n",
        "          0.92, # y\n",
        "          'ATLAS Open Data', # text\n",
        "          transform=main_axes.transAxes, # coordinate system used is that of main_axes\n",
        "          fontsize=13 )\n",
        "\n",
        "  # Add text 'for education' on plot\n",
        "  plt.text(0.2, # x\n",
        "          0.86, # y\n",
        "          'for education', # text\n",
        "          transform=main_axes.transAxes, # coordinate system used is that of main_axes\n",
        "          style='italic',\n",
        "          fontsize=8 )\n",
        "\n",
        "  lumi = 36.1\n",
        "  lumi_used = str(lumi*fraction) # luminosity to write on the plot\n",
        "  plt.text(0.2, # x\n",
        "          0.8, # y\n",
        "          '$\\sqrt{s}$=13 TeV,$\\int$L dt = '+lumi_used+' fb$^{-1}$', # text\n",
        "          transform=main_axes.transAxes ) # coordinate system used is that of main_axes\n",
        "\n",
        "  # Add a label for the analysis carried out\n",
        "  plt.text(0.2, # x\n",
        "          0.74, # y\n",
        "          r'$H \\rightarrow \\gamma\\gamma$', # text\n",
        "          transform=main_axes.transAxes ) # coordinate system used is that of main_axes\n",
        "\n",
        "  # draw the legend\n",
        "  main_axes.legend(frameon=False, # no box around the legend\n",
        "                  loc='lower left' ) # legend location\n",
        "\n",
        "\n",
        "  # *************\n",
        "  # Data-Bkg plot\n",
        "  # *************\n",
        "  plt.axes([0.1,0.1,0.85,0.2]) # left, bottom, width, height\n",
        "  sub_axes = plt.gca() # get the current axes\n",
        "\n",
        "  # set the y axis to be symmetric about Data-Background=0\n",
        "  sub_axes.yaxis.set_major_locator( MaxNLocator(nbins='auto',\n",
        "                                              symmetric=True) )\n",
        "\n",
        "  # plot Data-Background\n",
        "  sub_axes.errorbar(x=bin_centres, y=signal_x, yerr=data_x_errors,\n",
        "                  fmt='ko' ) # 'k' means black and 'o' means circles\n",
        "\n",
        "  # draw the fit to data\n",
        "  sub_axes.plot(bin_centres, # x\n",
        "              out.best_fit-background, # y\n",
        "              '-r' ) # single red line\n",
        "\n",
        "  # draw the background only fit\n",
        "  sub_axes.plot(bin_centres, # x\n",
        "              background-background, # y\n",
        "              '--r' )  # dashed red line\n",
        "\n",
        "  # set the x-axis limits on the sub axes\n",
        "  sub_axes.set_xlim( left=xmin, right=xmax )\n",
        "\n",
        "  # separation of x-axis minor ticks\n",
        "  sub_axes.xaxis.set_minor_locator( AutoMinorLocator() )\n",
        "\n",
        "  # x-axis label\n",
        "  sub_axes.set_xlabel(r'di-photon invariant mass $\\mathrm{m_{\\gamma\\gamma}}$ [GeV]',\n",
        "                      x=1, horizontalalignment='right',\n",
        "                      fontsize=13 )\n",
        "\n",
        "  # set the tick parameters for the sub axes\n",
        "  sub_axes.tick_params(which='both', # ticks on both x and y axes\n",
        "                      direction='in', # Put ticks inside and outside the axes\n",
        "                      top=True, # draw ticks on the top axis\n",
        "                      right=True ) # draw ticks on right axis\n",
        "\n",
        "  # separation of y-axis minor ticks\n",
        "  sub_axes.yaxis.set_minor_locator( AutoMinorLocator() )\n",
        "\n",
        "  # y-axis label on the sub axes\n",
        "  sub_axes.set_ylabel( 'Events-Bkg' )\n",
        "\n",
        "\n",
        "  # Generic features for both plots\n",
        "  main_axes.yaxis.set_label_coords( -0.09, 1 ) # x,y coordinates of the y-axis label on the main axes\n",
        "  sub_axes.yaxis.set_label_coords( -0.09, 0.5 ) # x,y coordinates of the y-axis label on the sub axes\n",
        "\n",
        "# This function calculates the invariant mass of the 2-photon state\n",
        "def calc_mass(photon_pt, photon_eta, photon_phi, photon_e):\n",
        "    p4 = vector.zip({\"pt\": photon_pt, \"eta\": photon_eta, \"phi\": photon_phi, \"e\": photon_e})\n",
        "    invariant_mass = (p4[:, 0] + p4[:, 1]).M # .M calculates the invariant mass\n",
        "    return invariant_mass/GeV\n"
      ],
      "metadata": {
        "id": "dmxLsGTCbUwy"
      },
      "execution_count": null,
      "outputs": []
    },
    {
      "cell_type": "code",
      "source": [
        "# Here we cumulate data from all periods to get better statistics\n",
        "variables = [\"photon_pt\",\"photon_eta\",\"photon_phi\",\"photon_E\",\n",
        "             \"photon_isTightID\",\"photon_etcone20\"]\n",
        "\n",
        "all_data = []\n",
        "\n",
        "# Loop over each file\n",
        "for val in samples_list:\n",
        "\n",
        "    # Print which sample is being processed\n",
        "    print('Processing '+val+' samples')\n",
        "\n",
        "    fileString = path + val + file_suffix # file name to open\n",
        "\n",
        "    # Open file\n",
        "    with uproot.open(fileString + tree_type) as t:\n",
        "        tree = t\n",
        "\n",
        "    numevents = tree.num_entries\n",
        "\n",
        "    # Calculate the invariant mass and add it into the data structure\n",
        "    for data in tree.iterate(variables, library=\"ak\", entry_stop=numevents*1):\n",
        "        data['mass'] = calc_mass(data['photon_pt'], data['photon_eta'], data['photon_phi'], data['photon_E'])\n",
        "\n",
        "        # Append data to the whole sample data list\n",
        "        all_data.append(data)\n",
        "\n",
        "# Convert back to DataFrame\n",
        "all_data = ak.to_dataframe(ak.concatenate(all_data))"
      ],
      "metadata": {
        "id": "ph418B02oqCm"
      },
      "execution_count": null,
      "outputs": []
    },
    {
      "cell_type": "code",
      "source": [
        "# Let's create the final result plot without making any selections on the data and see how it looks\n",
        "result_plot(all_data)"
      ],
      "metadata": {
        "id": "UYi_DoDpxB0R"
      },
      "execution_count": null,
      "outputs": []
    },
    {
      "cell_type": "code",
      "source": [
        "# Need to apply some selections so that we can see the signal 'bump' over the background\n",
        "\n",
        "# Cut on the photon reconstruction quality\n",
        "def cut_photon_reconstruction(photon_isTightID):\n",
        "    # Only the events which have True for both photons are kept\n",
        "    return (photon_isTightID[:,0]==True) & (photon_isTightID[:,1]==True)\n",
        "\n",
        "# Cut on the transverse momentum\n",
        "def cut_photon_pt(photon_pt):\n",
        "   # Only the events where photon_pt[0] > 40 GeV and photon_pt[1] > 30 GeV are kept\n",
        "    return (photon_pt[:,0] > 40*GeV) & (photon_pt[:,1] > 30*GeV)\n",
        "\n",
        "# Cut on the energy isolation\n",
        "def cut_isolation_pt(photon_ptcone20):\n",
        "    # Only the events where the isolation transverse energy is less than 4 GeV are kept\n",
        "    return (photon_ptcone20[:,0] < 4*GeV) & (photon_ptcone20[:,1] < 4*GeV)\n",
        "\n",
        "# Cut on the pseudorapidity in barrel/end-cap transition region\n",
        "def cut_photon_eta_transition(photon_eta):\n",
        "    # Only the events where modulus of photon_eta is outside the range 1.37 to 1.52 are kept\n",
        "    abs_eta = np.abs(photon_eta)\n",
        "    condition_0 = (abs_eta[:, 0] < 1.37) | (abs_eta[:, 0] > 1.52)\n",
        "    condition_1 = (abs_eta[:, 1] < 1.37) | (abs_eta[:, 1] > 1.52)\n",
        "    return condition_0 & condition_1\n"
      ],
      "metadata": {
        "id": "N8uUsFbTk6-P"
      },
      "execution_count": null,
      "outputs": []
    },
    {
      "cell_type": "code",
      "source": [
        "# Now reduce our dataset using these cuts by indexing all_data with these conditions\n",
        "selected_data = all_data\n",
        "print('Initial events:',len(selected_data))\n",
        "\n",
        "selected_data = all_data[ cut_photon_reconstruction(all_data['photon_isTightID']).reindex(selected_data.index,level='entry') ]\n",
        "print('After reconstruction cut:',len(selected_data))\n",
        "\n",
        "selected_data = selected_data[ cut_photon_pt(selected_data['photon_pt']).reindex(selected_data.index,level='entry') ]\n",
        "print('After pt cut:',len(selected_data))\n",
        "\n",
        "selected_data = selected_data[ cut_isolation_pt(selected_data['photon_etcone20']).reindex(selected_data.index,level='entry') ]\n",
        "print('After isolation cut:',len(selected_data))\n",
        "\n",
        "selected_data = selected_data[ cut_photon_eta_transition(selected_data['photon_eta']).reindex(selected_data.index,level='entry') ]\n",
        "print('After eta cut:',len(selected_data))\n"
      ],
      "metadata": {
        "id": "MpvTvTLDq4mH"
      },
      "execution_count": null,
      "outputs": []
    },
    {
      "cell_type": "code",
      "source": [
        "result_plot(selected_data)"
      ],
      "metadata": {
        "id": "-2PK_LfPHhqE"
      },
      "execution_count": null,
      "outputs": []
    },
    {
      "cell_type": "code",
      "source": [],
      "metadata": {
        "id": "6bCVd46dWaYi"
      },
      "execution_count": null,
      "outputs": []
    }
  ]
}